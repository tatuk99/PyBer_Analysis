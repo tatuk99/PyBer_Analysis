{
 "cells": [
  {
   "cell_type": "code",
   "execution_count": 2,
   "id": "534668d0",
   "metadata": {},
   "outputs": [],
   "source": [
    "%matplotlib inline"
   ]
  },
  {
   "cell_type": "code",
   "execution_count": 3,
   "id": "767109cb",
   "metadata": {},
   "outputs": [],
   "source": [
    "import matplotlib.pyplot as plt\n",
    "import numpy as np\n",
    "import pandas as pd\n",
    "import os"
   ]
  },
  {
   "cell_type": "code",
   "execution_count": 4,
   "id": "3ede7b70",
   "metadata": {},
   "outputs": [],
   "source": [
    "# Loading in our csv files\n",
    "city_data_to_load = \"Resources/city_data.csv\"\n",
    "ride_data_to_load = \"Resources/ride_data.csv\""
   ]
  },
  {
   "cell_type": "code",
   "execution_count": 5,
   "id": "83177085",
   "metadata": {},
   "outputs": [
    {
     "data": {
      "text/html": [
       "<div>\n",
       "<style scoped>\n",
       "    .dataframe tbody tr th:only-of-type {\n",
       "        vertical-align: middle;\n",
       "    }\n",
       "\n",
       "    .dataframe tbody tr th {\n",
       "        vertical-align: top;\n",
       "    }\n",
       "\n",
       "    .dataframe thead th {\n",
       "        text-align: right;\n",
       "    }\n",
       "</style>\n",
       "<table border=\"1\" class=\"dataframe\">\n",
       "  <thead>\n",
       "    <tr style=\"text-align: right;\">\n",
       "      <th></th>\n",
       "      <th>city</th>\n",
       "      <th>driver_count</th>\n",
       "      <th>type</th>\n",
       "    </tr>\n",
       "  </thead>\n",
       "  <tbody>\n",
       "    <tr>\n",
       "      <th>0</th>\n",
       "      <td>Richardfort</td>\n",
       "      <td>38</td>\n",
       "      <td>Urban</td>\n",
       "    </tr>\n",
       "    <tr>\n",
       "      <th>1</th>\n",
       "      <td>Williamsstad</td>\n",
       "      <td>59</td>\n",
       "      <td>Urban</td>\n",
       "    </tr>\n",
       "    <tr>\n",
       "      <th>2</th>\n",
       "      <td>Port Angela</td>\n",
       "      <td>67</td>\n",
       "      <td>Urban</td>\n",
       "    </tr>\n",
       "    <tr>\n",
       "      <th>3</th>\n",
       "      <td>Rodneyfort</td>\n",
       "      <td>34</td>\n",
       "      <td>Urban</td>\n",
       "    </tr>\n",
       "    <tr>\n",
       "      <th>4</th>\n",
       "      <td>West Robert</td>\n",
       "      <td>39</td>\n",
       "      <td>Urban</td>\n",
       "    </tr>\n",
       "    <tr>\n",
       "      <th>...</th>\n",
       "      <td>...</td>\n",
       "      <td>...</td>\n",
       "      <td>...</td>\n",
       "    </tr>\n",
       "    <tr>\n",
       "      <th>115</th>\n",
       "      <td>Bradshawfurt</td>\n",
       "      <td>7</td>\n",
       "      <td>Rural</td>\n",
       "    </tr>\n",
       "    <tr>\n",
       "      <th>116</th>\n",
       "      <td>New Ryantown</td>\n",
       "      <td>2</td>\n",
       "      <td>Rural</td>\n",
       "    </tr>\n",
       "    <tr>\n",
       "      <th>117</th>\n",
       "      <td>Randallchester</td>\n",
       "      <td>9</td>\n",
       "      <td>Rural</td>\n",
       "    </tr>\n",
       "    <tr>\n",
       "      <th>118</th>\n",
       "      <td>Jessicaport</td>\n",
       "      <td>1</td>\n",
       "      <td>Rural</td>\n",
       "    </tr>\n",
       "    <tr>\n",
       "      <th>119</th>\n",
       "      <td>South Saramouth</td>\n",
       "      <td>7</td>\n",
       "      <td>Rural</td>\n",
       "    </tr>\n",
       "  </tbody>\n",
       "</table>\n",
       "<p>120 rows × 3 columns</p>\n",
       "</div>"
      ],
      "text/plain": [
       "                city  driver_count   type\n",
       "0        Richardfort            38  Urban\n",
       "1       Williamsstad            59  Urban\n",
       "2        Port Angela            67  Urban\n",
       "3         Rodneyfort            34  Urban\n",
       "4        West Robert            39  Urban\n",
       "..               ...           ...    ...\n",
       "115     Bradshawfurt             7  Rural\n",
       "116     New Ryantown             2  Rural\n",
       "117   Randallchester             9  Rural\n",
       "118      Jessicaport             1  Rural\n",
       "119  South Saramouth             7  Rural\n",
       "\n",
       "[120 rows x 3 columns]"
      ]
     },
     "execution_count": 5,
     "metadata": {},
     "output_type": "execute_result"
    }
   ],
   "source": [
    "city_data_df = pd.read_csv(city_data_to_load)\n",
    "city_data_df"
   ]
  },
  {
   "cell_type": "code",
   "execution_count": 6,
   "id": "6c26c30f",
   "metadata": {},
   "outputs": [
    {
     "data": {
      "text/html": [
       "<div>\n",
       "<style scoped>\n",
       "    .dataframe tbody tr th:only-of-type {\n",
       "        vertical-align: middle;\n",
       "    }\n",
       "\n",
       "    .dataframe tbody tr th {\n",
       "        vertical-align: top;\n",
       "    }\n",
       "\n",
       "    .dataframe thead th {\n",
       "        text-align: right;\n",
       "    }\n",
       "</style>\n",
       "<table border=\"1\" class=\"dataframe\">\n",
       "  <thead>\n",
       "    <tr style=\"text-align: right;\">\n",
       "      <th></th>\n",
       "      <th>city</th>\n",
       "      <th>date</th>\n",
       "      <th>fare</th>\n",
       "      <th>ride_id</th>\n",
       "    </tr>\n",
       "  </thead>\n",
       "  <tbody>\n",
       "    <tr>\n",
       "      <th>0</th>\n",
       "      <td>Lake Jonathanshire</td>\n",
       "      <td>2019-01-14 10:14:22</td>\n",
       "      <td>13.83</td>\n",
       "      <td>5739410935873</td>\n",
       "    </tr>\n",
       "    <tr>\n",
       "      <th>1</th>\n",
       "      <td>South Michelleport</td>\n",
       "      <td>2019-03-04 18:24:09</td>\n",
       "      <td>30.24</td>\n",
       "      <td>2343912425577</td>\n",
       "    </tr>\n",
       "    <tr>\n",
       "      <th>2</th>\n",
       "      <td>Port Samanthamouth</td>\n",
       "      <td>2019-02-24 04:29:00</td>\n",
       "      <td>33.44</td>\n",
       "      <td>2005065760003</td>\n",
       "    </tr>\n",
       "    <tr>\n",
       "      <th>3</th>\n",
       "      <td>Rodneyfort</td>\n",
       "      <td>2019-02-10 23:22:03</td>\n",
       "      <td>23.44</td>\n",
       "      <td>5149245426178</td>\n",
       "    </tr>\n",
       "    <tr>\n",
       "      <th>4</th>\n",
       "      <td>South Jack</td>\n",
       "      <td>2019-03-06 04:28:35</td>\n",
       "      <td>34.58</td>\n",
       "      <td>3908451377344</td>\n",
       "    </tr>\n",
       "    <tr>\n",
       "      <th>5</th>\n",
       "      <td>South Latoya</td>\n",
       "      <td>2019-03-11 12:26:48</td>\n",
       "      <td>9.52</td>\n",
       "      <td>1994999424437</td>\n",
       "    </tr>\n",
       "    <tr>\n",
       "      <th>6</th>\n",
       "      <td>New Paulville</td>\n",
       "      <td>2019-02-27 11:17:56</td>\n",
       "      <td>43.25</td>\n",
       "      <td>793208410091</td>\n",
       "    </tr>\n",
       "    <tr>\n",
       "      <th>7</th>\n",
       "      <td>Simpsonburgh</td>\n",
       "      <td>2019-04-26 00:43:24</td>\n",
       "      <td>35.98</td>\n",
       "      <td>111953927754</td>\n",
       "    </tr>\n",
       "    <tr>\n",
       "      <th>8</th>\n",
       "      <td>South Karenland</td>\n",
       "      <td>2019-01-08 03:28:48</td>\n",
       "      <td>35.09</td>\n",
       "      <td>7995623208694</td>\n",
       "    </tr>\n",
       "    <tr>\n",
       "      <th>9</th>\n",
       "      <td>North Jasmine</td>\n",
       "      <td>2019-03-09 06:26:29</td>\n",
       "      <td>42.81</td>\n",
       "      <td>5327642267789</td>\n",
       "    </tr>\n",
       "  </tbody>\n",
       "</table>\n",
       "</div>"
      ],
      "text/plain": [
       "                 city                 date   fare        ride_id\n",
       "0  Lake Jonathanshire  2019-01-14 10:14:22  13.83  5739410935873\n",
       "1  South Michelleport  2019-03-04 18:24:09  30.24  2343912425577\n",
       "2  Port Samanthamouth  2019-02-24 04:29:00  33.44  2005065760003\n",
       "3          Rodneyfort  2019-02-10 23:22:03  23.44  5149245426178\n",
       "4          South Jack  2019-03-06 04:28:35  34.58  3908451377344\n",
       "5        South Latoya  2019-03-11 12:26:48   9.52  1994999424437\n",
       "6       New Paulville  2019-02-27 11:17:56  43.25   793208410091\n",
       "7        Simpsonburgh  2019-04-26 00:43:24  35.98   111953927754\n",
       "8     South Karenland  2019-01-08 03:28:48  35.09  7995623208694\n",
       "9       North Jasmine  2019-03-09 06:26:29  42.81  5327642267789"
      ]
     },
     "execution_count": 6,
     "metadata": {},
     "output_type": "execute_result"
    }
   ],
   "source": [
    "ride_data_df = pd.read_csv(ride_data_to_load)\n",
    "ride_data_df.head(10)"
   ]
  },
  {
   "cell_type": "code",
   "execution_count": 7,
   "id": "a5290e6f",
   "metadata": {},
   "outputs": [
    {
     "data": {
      "text/plain": [
       "city            0\n",
       "driver_count    0\n",
       "type            0\n",
       "dtype: int64"
      ]
     },
     "execution_count": 7,
     "metadata": {},
     "output_type": "execute_result"
    }
   ],
   "source": [
    "#Check both data frames for null values\n",
    "city_data_df.isnull().sum()"
   ]
  },
  {
   "cell_type": "code",
   "execution_count": 8,
   "id": "bceb4366",
   "metadata": {},
   "outputs": [
    {
     "data": {
      "text/plain": [
       "city       0\n",
       "date       0\n",
       "fare       0\n",
       "ride_id    0\n",
       "dtype: int64"
      ]
     },
     "execution_count": 8,
     "metadata": {},
     "output_type": "execute_result"
    }
   ],
   "source": [
    "ride_data_df.isnull().sum()"
   ]
  },
  {
   "cell_type": "code",
   "execution_count": 9,
   "id": "3057498e",
   "metadata": {},
   "outputs": [
    {
     "data": {
      "text/plain": [
       "city            object\n",
       "driver_count     int64\n",
       "type            object\n",
       "dtype: object"
      ]
     },
     "execution_count": 9,
     "metadata": {},
     "output_type": "execute_result"
    }
   ],
   "source": [
    "# Get data types from both data frames\n",
    "city_data_df.dtypes"
   ]
  },
  {
   "cell_type": "raw",
   "id": "02a1594f",
   "metadata": {},
   "source": []
  },
  {
   "cell_type": "code",
   "execution_count": 10,
   "id": "0292ccc7",
   "metadata": {},
   "outputs": [
    {
     "data": {
      "text/plain": [
       "city        object\n",
       "date        object\n",
       "fare       float64\n",
       "ride_id      int64\n",
       "dtype: object"
      ]
     },
     "execution_count": 10,
     "metadata": {},
     "output_type": "execute_result"
    }
   ],
   "source": [
    "ride_data_df.dtypes"
   ]
  },
  {
   "cell_type": "code",
   "execution_count": 12,
   "id": "64e6e65a",
   "metadata": {},
   "outputs": [
    {
     "data": {
      "text/plain": [
       "array(['Urban', 'Suburban', 'Rural'], dtype=object)"
      ]
     },
     "execution_count": 12,
     "metadata": {},
     "output_type": "execute_result"
    }
   ],
   "source": [
    "# Get the unique values of the type of city\n",
    "city_data_df[\"type\"].unique()"
   ]
  },
  {
   "cell_type": "code",
   "execution_count": 14,
   "id": "f17c47d0",
   "metadata": {},
   "outputs": [
    {
     "data": {
      "text/plain": [
       "66"
      ]
     },
     "execution_count": 14,
     "metadata": {},
     "output_type": "execute_result"
    }
   ],
   "source": [
    "# Number of urban cities\n",
    "sum(city_data_df[\"type\"]==\"Urban\")"
   ]
  },
  {
   "cell_type": "code",
   "execution_count": 15,
   "id": "4402100e",
   "metadata": {},
   "outputs": [
    {
     "data": {
      "text/plain": [
       "36"
      ]
     },
     "execution_count": 15,
     "metadata": {},
     "output_type": "execute_result"
    }
   ],
   "source": [
    "# Number of suburban cities\n",
    "sum(city_data_df[\"type\"]==\"Suburban\")"
   ]
  },
  {
   "cell_type": "code",
   "execution_count": 16,
   "id": "169d6cad",
   "metadata": {},
   "outputs": [
    {
     "data": {
      "text/plain": [
       "18"
      ]
     },
     "execution_count": 16,
     "metadata": {},
     "output_type": "execute_result"
    }
   ],
   "source": [
    "# Number of rural cities\n",
    "sum(city_data_df[\"type\"]==\"Rural\")"
   ]
  },
  {
   "cell_type": "code",
   "execution_count": 17,
   "id": "fbe98d5f",
   "metadata": {},
   "outputs": [
    {
     "data": {
      "text/plain": [
       "city        object\n",
       "date        object\n",
       "fare       float64\n",
       "ride_id      int64\n",
       "dtype: object"
      ]
     },
     "execution_count": 17,
     "metadata": {},
     "output_type": "execute_result"
    }
   ],
   "source": [
    "# inspect ride data \n",
    "ride_data_df.dtypes"
   ]
  },
  {
   "cell_type": "code",
   "execution_count": 19,
   "id": "5cc42063",
   "metadata": {},
   "outputs": [
    {
     "data": {
      "text/plain": [
       "array(['Lake Jonathanshire', 'South Michelleport', 'Port Samanthamouth',\n",
       "       'Rodneyfort', 'South Jack', 'South Latoya', 'New Paulville',\n",
       "       'Simpsonburgh', 'South Karenland', 'North Jasmine',\n",
       "       'New Kimberlyborough', 'West Angela', 'Roberthaven', 'North Jason',\n",
       "       'Williamsview', 'Leahton', 'West Anthony', 'New Paulton',\n",
       "       'West Patrickchester', 'Deanville', 'West Josephberg',\n",
       "       'West Samuelburgh', 'West Heidi', 'Loganberg', 'Huntermouth',\n",
       "       'Grahamburgh', 'Port Frank', 'East Kaylahaven', 'West Robert',\n",
       "       'North Markport', 'Richardfort', 'Reynoldsfurt', 'Justinberg',\n",
       "       'Martinezhaven', 'Jerryton', 'Lake Scottton', 'South Evanton',\n",
       "       'Rogerston', 'West Ericstad', 'Hurleymouth', 'Joneschester',\n",
       "       'Port Angela', 'Barajasview', 'West Christopherberg',\n",
       "       'New Jacobville', 'Port David', 'Valentineton', 'Carriemouth',\n",
       "       'Williamsstad', 'Royland', 'Karenberg', 'Christopherfurt',\n",
       "       'Liumouth', 'Johnton', 'Erikaland', 'Raymondhaven', 'Karenside',\n",
       "       'Lake Danielberg', 'South Phillip', 'North Madeline',\n",
       "       'Port Johnbury', 'Robertport', 'Pattyland', 'Amandaburgh',\n",
       "       'North Barbara', 'West Gabriel', 'Barronchester', 'East Kentstad',\n",
       "       'Lake Omar', 'Myersshire', 'West Hannah', 'East Marymouth',\n",
       "       'New Raymond', 'Lake Robertside', 'Josephside', 'Brandonfort',\n",
       "       'Lewisland', 'North Richardhaven', 'New Olivia', 'New Shannonberg',\n",
       "       'Nicolechester', 'Victoriaport', 'South Teresa', 'East Aaronbury',\n",
       "       'Bethanyland', 'Lake Scott', 'North Jeffrey', 'Rodriguezview',\n",
       "       'Sotoville', 'South Brenda', 'Port Shane', 'North Timothy',\n",
       "       'Veronicaberg', 'Williamsonville', 'Lewishaven', 'Lake Ann',\n",
       "       'Grayville', 'Colemanland', 'West Kimmouth', 'Mezachester',\n",
       "       'Davidfurt', 'East Danielview', 'Randallchester', 'North Holly',\n",
       "       'Michaelberg', 'Lake Latoyabury', 'Taylorhaven', 'Garzaport',\n",
       "       'New Ryantown', 'Bradshawfurt', 'South Marychester', 'Jessicaport',\n",
       "       'South Jennifer', 'South Saramouth', 'Lake Jamie', 'Newtonview',\n",
       "       'North Jaime', 'Penaborough', 'Harringtonfort', 'West Heather'],\n",
       "      dtype=object)"
      ]
     },
     "execution_count": 19,
     "metadata": {},
     "output_type": "execute_result"
    }
   ],
   "source": [
    "ride_data_df[\"city\"].unique()"
   ]
  },
  {
   "cell_type": "code",
   "execution_count": 20,
   "id": "38432273",
   "metadata": {},
   "outputs": [
    {
     "data": {
      "text/plain": [
       "city       0\n",
       "date       0\n",
       "fare       0\n",
       "ride_id    0\n",
       "dtype: int64"
      ]
     },
     "execution_count": 20,
     "metadata": {},
     "output_type": "execute_result"
    }
   ],
   "source": [
    "ride_data_df.isnull().sum()"
   ]
  },
  {
   "cell_type": "code",
   "execution_count": 21,
   "id": "29acd938",
   "metadata": {},
   "outputs": [
    {
     "data": {
      "text/plain": [
       "city       2375\n",
       "date       2375\n",
       "fare       2375\n",
       "ride_id    2375\n",
       "dtype: int64"
      ]
     },
     "execution_count": 21,
     "metadata": {},
     "output_type": "execute_result"
    }
   ],
   "source": [
    "# Get the columns and the rows that are not null.\n",
    "ride_data_df.count()"
   ]
  },
  {
   "cell_type": "code",
   "execution_count": 22,
   "id": "bc03695f",
   "metadata": {},
   "outputs": [
    {
     "data": {
      "text/plain": [
       "city       0\n",
       "date       0\n",
       "fare       0\n",
       "ride_id    0\n",
       "dtype: int64"
      ]
     },
     "execution_count": 22,
     "metadata": {},
     "output_type": "execute_result"
    }
   ],
   "source": [
    "# Get the columns and the rows that are null.\n",
    "ride_data_df.isnull().sum()"
   ]
  },
  {
   "cell_type": "code",
   "execution_count": 23,
   "id": "0678c6b2",
   "metadata": {},
   "outputs": [
    {
     "data": {
      "text/plain": [
       "city        object\n",
       "date        object\n",
       "fare       float64\n",
       "ride_id      int64\n",
       "dtype: object"
      ]
     },
     "execution_count": 23,
     "metadata": {},
     "output_type": "execute_result"
    }
   ],
   "source": [
    "# Get the data types of each column.\n",
    "ride_data_df.dtypes"
   ]
  },
  {
   "cell_type": "code",
   "execution_count": 27,
   "id": "f6a56569",
   "metadata": {},
   "outputs": [
    {
     "data": {
      "text/html": [
       "<div>\n",
       "<style scoped>\n",
       "    .dataframe tbody tr th:only-of-type {\n",
       "        vertical-align: middle;\n",
       "    }\n",
       "\n",
       "    .dataframe tbody tr th {\n",
       "        vertical-align: top;\n",
       "    }\n",
       "\n",
       "    .dataframe thead th {\n",
       "        text-align: right;\n",
       "    }\n",
       "</style>\n",
       "<table border=\"1\" class=\"dataframe\">\n",
       "  <thead>\n",
       "    <tr style=\"text-align: right;\">\n",
       "      <th></th>\n",
       "      <th>city</th>\n",
       "      <th>date</th>\n",
       "      <th>fare</th>\n",
       "      <th>ride_id</th>\n",
       "      <th>driver_count</th>\n",
       "      <th>type</th>\n",
       "    </tr>\n",
       "  </thead>\n",
       "  <tbody>\n",
       "    <tr>\n",
       "      <th>0</th>\n",
       "      <td>Lake Jonathanshire</td>\n",
       "      <td>2019-01-14 10:14:22</td>\n",
       "      <td>13.83</td>\n",
       "      <td>5739410935873</td>\n",
       "      <td>5</td>\n",
       "      <td>Urban</td>\n",
       "    </tr>\n",
       "    <tr>\n",
       "      <th>1</th>\n",
       "      <td>South Michelleport</td>\n",
       "      <td>2019-03-04 18:24:09</td>\n",
       "      <td>30.24</td>\n",
       "      <td>2343912425577</td>\n",
       "      <td>72</td>\n",
       "      <td>Urban</td>\n",
       "    </tr>\n",
       "    <tr>\n",
       "      <th>2</th>\n",
       "      <td>Port Samanthamouth</td>\n",
       "      <td>2019-02-24 04:29:00</td>\n",
       "      <td>33.44</td>\n",
       "      <td>2005065760003</td>\n",
       "      <td>57</td>\n",
       "      <td>Urban</td>\n",
       "    </tr>\n",
       "    <tr>\n",
       "      <th>3</th>\n",
       "      <td>Rodneyfort</td>\n",
       "      <td>2019-02-10 23:22:03</td>\n",
       "      <td>23.44</td>\n",
       "      <td>5149245426178</td>\n",
       "      <td>34</td>\n",
       "      <td>Urban</td>\n",
       "    </tr>\n",
       "    <tr>\n",
       "      <th>4</th>\n",
       "      <td>South Jack</td>\n",
       "      <td>2019-03-06 04:28:35</td>\n",
       "      <td>34.58</td>\n",
       "      <td>3908451377344</td>\n",
       "      <td>46</td>\n",
       "      <td>Urban</td>\n",
       "    </tr>\n",
       "  </tbody>\n",
       "</table>\n",
       "</div>"
      ],
      "text/plain": [
       "                 city                 date   fare        ride_id  \\\n",
       "0  Lake Jonathanshire  2019-01-14 10:14:22  13.83  5739410935873   \n",
       "1  South Michelleport  2019-03-04 18:24:09  30.24  2343912425577   \n",
       "2  Port Samanthamouth  2019-02-24 04:29:00  33.44  2005065760003   \n",
       "3          Rodneyfort  2019-02-10 23:22:03  23.44  5149245426178   \n",
       "4          South Jack  2019-03-06 04:28:35  34.58  3908451377344   \n",
       "\n",
       "   driver_count   type  \n",
       "0             5  Urban  \n",
       "1            72  Urban  \n",
       "2            57  Urban  \n",
       "3            34  Urban  \n",
       "4            46  Urban  "
      ]
     },
     "execution_count": 27,
     "metadata": {},
     "output_type": "execute_result"
    }
   ],
   "source": [
    "# Merge the two data sets\n",
    "ride_city_data_df = pd.merge(ride_data_df, city_data_df,how = \"left\", on=[\"city\", \"city\"])\n",
    "ride_city_data_df.head()"
   ]
  },
  {
   "cell_type": "code",
   "execution_count": null,
   "id": "d230f4bc",
   "metadata": {},
   "outputs": [],
   "source": []
  }
 ],
 "metadata": {
  "kernelspec": {
   "display_name": "PythonData",
   "language": "python",
   "name": "pythondata"
  },
  "language_info": {
   "codemirror_mode": {
    "name": "ipython",
    "version": 3
   },
   "file_extension": ".py",
   "mimetype": "text/x-python",
   "name": "python",
   "nbconvert_exporter": "python",
   "pygments_lexer": "ipython3",
   "version": "3.9.7"
  }
 },
 "nbformat": 4,
 "nbformat_minor": 5
}
